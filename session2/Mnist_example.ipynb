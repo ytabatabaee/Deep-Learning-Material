{
 "cells": [
  {
   "cell_type": "markdown",
   "metadata": {
    "button": false,
    "colab_type": "text",
    "deletable": true,
    "id": "_InzU0K_yhR-",
    "new_sheet": false,
    "run_control": {
     "read_only": false
    }
   },
   "source": [
    "## Imports"
   ]
  },
  {
   "cell_type": "code",
   "execution_count": 1,
   "metadata": {
    "button": false,
    "colab": {},
    "colab_type": "code",
    "deletable": true,
    "id": "s1nPql4PqRaM",
    "new_sheet": false,
    "run_control": {
     "read_only": false
    }
   },
   "outputs": [],
   "source": [
    "import torch\n",
    "import torch.nn as nn\n",
    "import torch.nn.functional as F\n",
    "import numpy as np\n",
    "from torchvision import datasets\n",
    "import torchvision.transforms as transforms\n",
    "from torch.utils.data.sampler import SubsetRandomSampler"
   ]
  },
  {
   "cell_type": "markdown",
   "metadata": {
    "button": false,
    "colab_type": "text",
    "deletable": true,
    "id": "WKjcHKi_ysCm",
    "new_sheet": false,
    "run_control": {
     "read_only": false
    }
   },
   "source": [
    "## Config"
   ]
  },
  {
   "cell_type": "code",
   "execution_count": 2,
   "metadata": {
    "button": false,
    "colab": {},
    "colab_type": "code",
    "deletable": true,
    "id": "NGMr8XPeqTds",
    "new_sheet": false,
    "run_control": {
     "read_only": false
    }
   },
   "outputs": [],
   "source": [
    "num_workers = 4\n",
    "batch_size = 128\n",
    "val_size = 0.1\n",
    "n_epochs = 20\n",
    "print_every = 500\n",
    "\n",
    "device = torch.device('cuda:0')"
   ]
  },
  {
   "cell_type": "markdown",
   "metadata": {
    "button": false,
    "colab_type": "text",
    "deletable": true,
    "id": "W8p9u-FQyt6_",
    "new_sheet": false,
    "run_control": {
     "read_only": false
    }
   },
   "source": [
    "### Downloading and Creating Train and Test Sets"
   ]
  },
  {
   "cell_type": "code",
   "execution_count": 3,
   "metadata": {
    "button": false,
    "colab": {},
    "colab_type": "code",
    "deletable": true,
    "id": "_oPWa7LJqVeR",
    "new_sheet": false,
    "run_control": {
     "read_only": false
    }
   },
   "outputs": [],
   "source": [
    "transform = transforms.ToTensor()\n",
    "\n",
    "train_data = datasets.MNIST(root = 'data', \n",
    "\t\t\t\t\t\t\t              train=True, \n",
    "\t\t\t\t\t\t\t              download=True,\n",
    "                            transform=transform)\n",
    "\n",
    "test_data = datasets.MNIST(root='data', \n",
    "\t\t\t\t\t\t               train=False, \n",
    "\t\t\t\t\t\t               download=True,\n",
    "                           transform=transform)"
   ]
  },
  {
   "cell_type": "markdown",
   "metadata": {
    "button": false,
    "colab_type": "text",
    "deletable": true,
    "id": "p6N__otJy4Ah",
    "new_sheet": false,
    "run_control": {
     "read_only": false
    }
   },
   "source": [
    "## Creating Data Loaders"
   ]
  },
  {
   "cell_type": "code",
   "execution_count": 4,
   "metadata": {
    "button": false,
    "colab": {},
    "colab_type": "code",
    "deletable": true,
    "id": "I-SU1GoTqXoS",
    "new_sheet": false,
    "run_control": {
     "read_only": false
    }
   },
   "outputs": [],
   "source": [
    "num_train = len(train_data)\n",
    "indices = list(range(num_train))\n",
    "np.random.shuffle(indices)\n",
    "split = int(np.floor(val_size * num_train))\n",
    "\n",
    "train_index, val_index = indices[split:], indices[:split]\n",
    "\n",
    "\n",
    "train_sampler = SubsetRandomSampler(train_index)\n",
    "val_sampler = SubsetRandomSampler(val_index)\n",
    "\n",
    "\n",
    "train_loader = torch.utils.data.DataLoader(train_data, \n",
    "\t\t\t\t\t\t\t\t\t\t                       batch_size=batch_size,\n",
    "                                           sampler = train_sampler, \n",
    "                                           num_workers = num_workers)\n",
    "\n",
    "val_loader = torch.utils.data.DataLoader(train_data, \n",
    "\t\t\t\t\t\t\t\t\t\t                     batch_size = batch_size,\n",
    "                                         sampler=val_sampler,\n",
    "                                         num_workers = num_workers)\n",
    "\n",
    "test_loader = torch.utils.data.DataLoader(test_data, \n",
    "\t\t\t\t\t\t\t\t\t\t                      batch_size=batch_size,\n",
    "                                          num_workers=num_workers)"
   ]
  },
  {
   "cell_type": "markdown",
   "metadata": {
    "button": false,
    "colab_type": "text",
    "deletable": true,
    "id": "13RrpHFmy7XU",
    "new_sheet": false,
    "run_control": {
     "read_only": false
    }
   },
   "source": [
    "## Defining the Network Class"
   ]
  },
  {
   "cell_type": "code",
   "execution_count": 5,
   "metadata": {
    "button": false,
    "colab": {},
    "colab_type": "code",
    "deletable": true,
    "id": "OKjgm6OlrKPl",
    "new_sheet": false,
    "run_control": {
     "read_only": false
    }
   },
   "outputs": [],
   "source": [
    "class Net(nn.Module):\n",
    "    def __init__(self, hidden_1=512, hidden_2=512):\n",
    "        super(Net, self).__init__()\n",
    "        self.fc1 = nn.Linear(784, hidden_1)\n",
    "        self.fc2 = nn.Linear(hidden_1, hidden_2)\n",
    "        self.fc3 = nn.Linear(hidden_2, 10)\n",
    "        self.droput = nn.Dropout(0.2)  # dropout prevents overfitting on the training data\n",
    "        \n",
    "    def forward(self,x):\n",
    "        x = x.view(-1, 28*28)\n",
    "        \n",
    "        x = F.relu(self.fc1(x))\n",
    "        x = self.droput(x)\n",
    "        \n",
    "        x = F.relu(self.fc2(x))\n",
    "        x = self.droput(x)\n",
    "        \n",
    "        x = self.fc3(x)\n",
    "        return x"
   ]
  },
  {
   "cell_type": "markdown",
   "metadata": {
    "button": false,
    "colab_type": "text",
    "deletable": true,
    "id": "Sp3GrK0UzDbU",
    "new_sheet": false,
    "run_control": {
     "read_only": false
    }
   },
   "source": [
    "## Instantiating the Network, Optimizer, and Loss Criterion"
   ]
  },
  {
   "cell_type": "code",
   "execution_count": 8,
   "metadata": {
    "button": false,
    "colab": {},
    "colab_type": "code",
    "deletable": true,
    "id": "GmimNpAOrNgg",
    "new_sheet": false,
    "run_control": {
     "read_only": false
    }
   },
   "outputs": [],
   "source": [
    "model = Net(512, 512)\n",
    "\n",
    "# NOTE: TRNASFER THE MODEL TO GPU BEFORE INSTANTIATING THE OPTIMIZER!!\n",
    "# model.to(device)\n",
    "\n",
    "optimizer = torch.optim.SGD(model.parameters(), lr = 0.01)\n",
    "criterion = nn.CrossEntropyLoss()"
   ]
  },
  {
   "cell_type": "markdown",
   "metadata": {
    "button": false,
    "colab_type": "text",
    "deletable": true,
    "id": "_5_lqF9NzMQU",
    "new_sheet": false,
    "run_control": {
     "read_only": false
    }
   },
   "source": [
    "## Training Loop"
   ]
  },
  {
   "cell_type": "code",
   "execution_count": 11,
   "metadata": {
    "button": false,
    "colab": {
     "base_uri": "https://localhost:8080/",
     "height": 874
    },
    "colab_type": "code",
    "collapsed": false,
    "deletable": true,
    "id": "IXuzLISgrPUY",
    "jupyter": {
     "outputs_hidden": false
    },
    "new_sheet": false,
    "outputId": "0ad856d0-085f-49ab-c023-ba0460622d37",
    "run_control": {
     "read_only": false
    }
   },
   "outputs": [
    {
     "name": "stdout",
     "output_type": "stream",
     "text": [
      "\tValidation loss decreased (inf --> 2.303507). Saving model ...\n",
      "Epoch: 1 \tTraining Loss: 2.152233\n",
      "\tValidation loss decreased (2.303507 --> 1.828278). Saving model ...\n",
      "Epoch: 2 \tTraining Loss: 1.252378\n",
      "\tValidation loss decreased (1.828278 --> 0.783717). Saving model ...\n",
      "Epoch: 3 \tTraining Loss: 0.676357\n",
      "\tValidation loss decreased (0.783717 --> 0.529105). Saving model ...\n",
      "Epoch: 4 \tTraining Loss: 0.524082\n",
      "\tValidation loss decreased (0.529105 --> 0.436774). Saving model ...\n",
      "Epoch: 5 \tTraining Loss: 0.455806\n",
      "\tValidation loss decreased (0.436774 --> 0.388052). Saving model ...\n",
      "Epoch: 6 \tTraining Loss: 0.413485\n",
      "\tValidation loss decreased (0.388052 --> 0.357727). Saving model ...\n",
      "Epoch: 7 \tTraining Loss: 0.382494\n",
      "\tValidation loss decreased (0.357727 --> 0.336792). Saving model ...\n",
      "Epoch: 8 \tTraining Loss: 0.360652\n",
      "\tValidation loss decreased (0.336792 --> 0.317409). Saving model ...\n",
      "Epoch: 9 \tTraining Loss: 0.344794\n",
      "\tValidation loss decreased (0.317409 --> 0.304129). Saving model ...\n",
      "Epoch: 10 \tTraining Loss: 0.327464\n",
      "\tValidation loss decreased (0.304129 --> 0.290993). Saving model ...\n",
      "Epoch: 11 \tTraining Loss: 0.315468\n",
      "\tValidation loss decreased (0.290993 --> 0.279666). Saving model ...\n",
      "Epoch: 12 \tTraining Loss: 0.301853\n",
      "\tValidation loss decreased (0.279666 --> 0.268523). Saving model ...\n",
      "Epoch: 13 \tTraining Loss: 0.289688\n",
      "\tValidation loss decreased (0.268523 --> 0.259467). Saving model ...\n",
      "Epoch: 14 \tTraining Loss: 0.279249\n",
      "\tValidation loss decreased (0.259467 --> 0.250409). Saving model ...\n",
      "Epoch: 15 \tTraining Loss: 0.270781\n",
      "\tValidation loss decreased (0.250409 --> 0.242448). Saving model ...\n",
      "Epoch: 16 \tTraining Loss: 0.260045\n",
      "\tValidation loss decreased (0.242448 --> 0.234515). Saving model ...\n",
      "Epoch: 17 \tTraining Loss: 0.252240\n",
      "\tValidation loss decreased (0.234515 --> 0.227354). Saving model ...\n",
      "Epoch: 18 \tTraining Loss: 0.244110\n",
      "\tValidation loss decreased (0.227354 --> 0.220751). Saving model ...\n",
      "Epoch: 19 \tTraining Loss: 0.235443\n",
      "\tValidation loss decreased (0.220751 --> 0.214312). Saving model ...\n",
      "Epoch: 20 \tTraining Loss: 0.228761\n"
     ]
    }
   ],
   "source": [
    "val_loss_min = np.Inf\n",
    "\n",
    "for epoch in range(n_epochs):\n",
    "  train_loss = 0\n",
    "     \n",
    "  # preparing the model for training\n",
    "  model.train()\n",
    "    \n",
    "  for iteration, (data, label) in enumerate(train_loader):\n",
    "    optimizer.zero_grad()\n",
    "#     output = model(data.to(device))\n",
    "#     loss = criterion(output, label.to(device))\n",
    "    output = model(data)\n",
    "    loss = criterion(output, label)\n",
    "    loss.backward()\n",
    "    optimizer.step()\n",
    "\n",
    "    # update running train loss \n",
    "    train_loss += loss.item() * data.shape[0]\n",
    "    \n",
    "    if iteration % print_every == 0:\n",
    "      is_training = model.training\n",
    "      val_loss = 0\n",
    "      model.eval()  # preparing model for evaluation\n",
    "      \n",
    "      for data, label in val_loader:\n",
    "#         output = model(data.to(device))\n",
    "        output = model(data)\n",
    "#         loss = criterion(output, label.to(device))\n",
    "        loss = criterion(output, label)\n",
    "        # update running validation loss \n",
    "        val_loss += loss.item() * data.shape[0]\n",
    "\n",
    "      val_loss = val_loss / len(val_loader.sampler)\n",
    "\n",
    "    \t# save model if validation loss has decreased\n",
    "      if val_loss <= val_loss_min:\n",
    "        print('\\tValidation loss decreased ({:.6f} --> {:.6f}). Saving model ...'.format(val_loss_min, val_loss))\n",
    "        torch.save(model.state_dict(), 'model.pt')\n",
    "        val_loss_min = val_loss\n",
    "\n",
    "      model.train(mode=is_training)\n",
    "\n",
    "  # calculate average trainnig loss over an epoch\n",
    "  train_loss = train_loss / len(train_loader.sampler)\n",
    "    \n",
    "  print('Epoch: {} \\tTraining Loss: {:.6f}'.format(epoch+1, train_loss))"
   ]
  },
  {
   "cell_type": "code",
   "execution_count": 12,
   "metadata": {
    "button": false,
    "colab": {
     "base_uri": "https://localhost:8080/",
     "height": 158
    },
    "colab_type": "code",
    "collapsed": false,
    "deletable": true,
    "id": "SknfkoaqrV9Q",
    "jupyter": {
     "outputs_hidden": false
    },
    "new_sheet": false,
    "outputId": "eff2e8fe-2f7b-487f-b0b9-a34bce103ebf",
    "run_control": {
     "read_only": false
    }
   },
   "outputs": [
    {
     "name": "stdout",
     "output_type": "stream",
     "text": [
      "Net(\n",
      "  (fc1): Linear(in_features=784, out_features=512, bias=True)\n",
      "  (fc2): Linear(in_features=512, out_features=512, bias=True)\n",
      "  (fc3): Linear(in_features=512, out_features=10, bias=True)\n",
      "  (droput): Dropout(p=0.2)\n",
      ")\n"
     ]
    }
   ],
   "source": [
    "model = Net()\n",
    "model.load_state_dict(torch.load('model.pt'))\n",
    "print(model)"
   ]
  },
  {
   "cell_type": "code",
   "execution_count": 14,
   "metadata": {
    "button": false,
    "colab": {
     "base_uri": "https://localhost:8080/",
     "height": 113
    },
    "colab_type": "code",
    "collapsed": false,
    "deletable": true,
    "id": "8KYuFEuJzSp6",
    "jupyter": {
     "outputs_hidden": false
    },
    "new_sheet": false,
    "outputId": "5f90534b-6539-4e4a-f6d0-ede08b424ca1",
    "run_control": {
     "read_only": false
    }
   },
   "outputs": [
    {
     "name": "stdout",
     "output_type": "stream",
     "text": [
      "Test Accuracy: 94.04%\n",
      "\n"
     ]
    }
   ],
   "source": [
    "test_loss = 0.0\n",
    "num_correct = 0\n",
    "\n",
    "model.eval()\n",
    "for data, target in test_loader:\n",
    "    output = model(data)\n",
    "    \n",
    "    pred = torch.argmax(output, dim=1)\n",
    "    num_correct += torch.sum(pred == target).item()\n",
    "    \n",
    "test_acc = num_correct / len(test_loader.sampler)\n",
    "print('Test Accuracy: {:.2f}%\\n'.format(test_acc * 100))"
   ]
  },
  {
   "cell_type": "code",
   "execution_count": null,
   "metadata": {
    "button": false,
    "colab": {},
    "colab_type": "code",
    "collapsed": true,
    "deletable": true,
    "id": "KnpZSNGN4WeI",
    "jupyter": {
     "outputs_hidden": true
    },
    "new_sheet": false,
    "run_control": {
     "read_only": false
    }
   },
   "outputs": [],
   "source": []
  }
 ],
 "metadata": {
  "accelerator": "GPU",
  "colab": {
   "collapsed_sections": [],
   "name": "Mnist.ipynb",
   "provenance": []
  },
  "kernelspec": {
   "display_name": "Python 3",
   "language": "python",
   "name": "python3"
  },
  "language_info": {
   "codemirror_mode": {
    "name": "ipython",
    "version": 3
   },
   "file_extension": ".py",
   "mimetype": "text/x-python",
   "name": "python",
   "nbconvert_exporter": "python",
   "pygments_lexer": "ipython3",
   "version": "3.6.8"
  }
 },
 "nbformat": 4,
 "nbformat_minor": 4
}
